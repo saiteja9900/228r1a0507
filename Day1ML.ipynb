{
  "nbformat": 4,
  "nbformat_minor": 0,
  "metadata": {
    "colab": {
      "provenance": [],
      "authorship_tag": "ABX9TyPrgiPm7+dUPCX+QIjOa6AI",
      "include_colab_link": true
    },
    "kernelspec": {
      "name": "python3",
      "display_name": "Python 3"
    },
    "language_info": {
      "name": "python"
    }
  },
  "cells": [
    {
      "cell_type": "markdown",
      "metadata": {
        "id": "view-in-github",
        "colab_type": "text"
      },
      "source": [
        "<a href=\"https://colab.research.google.com/github/saiteja9900/228r1a0507/blob/main/Day1ML.ipynb\" target=\"_parent\"><img src=\"https://colab.research.google.com/assets/colab-badge.svg\" alt=\"Open In Colab\"/></a>"
      ]
    },
    {
      "cell_type": "code",
      "execution_count": 1,
      "metadata": {
        "colab": {
          "base_uri": "https://localhost:8080/"
        },
        "id": "ptc3plmOMTj0",
        "outputId": "a5b42778-b4d0-4fb8-973c-06ac925440b6"
      },
      "outputs": [
        {
          "output_type": "stream",
          "name": "stdout",
          "text": [
            "7\n",
            "6\n",
            "1.8666666666666667\n"
          ]
        }
      ],
      "source": [
        "import statistics\n",
        "print(statistics.mean([1, 3, 5, 7, 9, 11, 13]))\n",
        "print(statistics.mean([1, 3, 5, 7, 9, 11]))\n",
        "print(statistics.mean([-11, 5.5, -3.4, 7.1, -9, 22]))\n",
        "\n",
        "\n"
      ]
    },
    {
      "cell_type": "code",
      "source": [
        "import statistics\n",
        "print(statistics.median([1, 3, 5, 7, 9, 11, 13]))\n",
        "print(statistics.median([1, 3, 5, 7, 9, 11]))\n",
        "print(statistics.median([-11, 5.5, -3.4, 7.1, -9, 22]))"
      ],
      "metadata": {
        "colab": {
          "base_uri": "https://localhost:8080/"
        },
        "id": "wfq8n1PFOBSq",
        "outputId": "895f2cff-b8df-4bbd-853a-a157d82b1572"
      },
      "execution_count": 3,
      "outputs": [
        {
          "output_type": "stream",
          "name": "stdout",
          "text": [
            "7\n",
            "6.0\n",
            "1.05\n"
          ]
        }
      ]
    },
    {
      "cell_type": "code",
      "source": [
        "import statistics\n",
        "print(statistics.mode([1, 3, 3, 5, 7, 7, 9, 11]))\n",
        "print(statistics.mode([1, 1, 3, -5, 7, -9, 11]))\n",
        "print(statistics.mode(['red', 'green', 'blue', 'red']))"
      ],
      "metadata": {
        "colab": {
          "base_uri": "https://localhost:8080/"
        },
        "id": "JcfHRLTBPgZO",
        "outputId": "1c983fd3-593c-48d7-ff41-e9e68c5e4fa5"
      },
      "execution_count": 4,
      "outputs": [
        {
          "output_type": "stream",
          "name": "stdout",
          "text": [
            "3\n",
            "1\n",
            "red\n"
          ]
        }
      ]
    },
    {
      "cell_type": "code",
      "source": [
        "import statistics\n",
        "print(statistics.stdev([1, 3, 5, 7, 9, 11]))\n",
        "print(statistics.stdev([2, 2.5, 1.25, 3.1, 1.75, 2.8]))\n",
        "print(statistics.stdev([-11, 5.5, -3.4, 7.1]))\n",
        "print(statistics.stdev([1, 30, 50, 100]))"
      ],
      "metadata": {
        "colab": {
          "base_uri": "https://localhost:8080/"
        },
        "id": "1C2NR5CtSmyZ",
        "outputId": "ac19e1fa-870b-4c05-949f-18c7e88d7b4f"
      },
      "execution_count": 5,
      "outputs": [
        {
          "output_type": "stream",
          "name": "stdout",
          "text": [
            "3.7416573867739413\n",
            "0.6925797186365383\n",
            "8.414471660973927\n",
            "41.67633221226007\n"
          ]
        }
      ]
    },
    {
      "cell_type": "code",
      "source": [
        "import statistics\n",
        "print(statistics.variance([1, 3, 5, 7, 9, 11]))\n",
        "print(statistics.variance([2, 2.5, 1.25, 3.1, 1.75, 2.8]))\n",
        "print(statistics.variance([-11, 5.5, -3.4, 7.1]))\n",
        "print(statistics.variance([1, 30, 50, 100]))"
      ],
      "metadata": {
        "colab": {
          "base_uri": "https://localhost:8080/"
        },
        "id": "j9uFIEhwTYWw",
        "outputId": "a841b292-8e97-4398-b695-2aa0b74f7afa"
      },
      "execution_count": 6,
      "outputs": [
        {
          "output_type": "stream",
          "name": "stdout",
          "text": [
            "14\n",
            "0.47966666666666663\n",
            "70.80333333333333\n",
            "1736.9166666666667\n"
          ]
        }
      ]
    },
    {
      "cell_type": "code",
      "source": [
        "import math\n",
        "print(math.ceil(1.4))\n",
        "print(math.ceil(5.3))\n",
        "print(math.ceil(-5.3))\n",
        "print(math.ceil(22.6))\n",
        "print(math.ceil(10.0))\n"
      ],
      "metadata": {
        "colab": {
          "base_uri": "https://localhost:8080/"
        },
        "id": "9PWaanb8Ufhv",
        "outputId": "9881a7e5-b947-486d-f584-551f0baf29db"
      },
      "execution_count": 8,
      "outputs": [
        {
          "output_type": "stream",
          "name": "stdout",
          "text": [
            "2\n",
            "6\n",
            "-5\n",
            "23\n",
            "10\n"
          ]
        }
      ]
    }
  ]
}